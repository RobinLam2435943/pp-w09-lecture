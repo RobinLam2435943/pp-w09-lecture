{
 "cells": [
  {
   "cell_type": "code",
   "execution_count": 1,
   "id": "ab80ab7b",
   "metadata": {},
   "outputs": [],
   "source": [
    "import numpy as np\n",
    "import pandas as pd\n",
    "import matplotlib.pyplot as plt\n",
    "import csv\n",
    "from IPython.display import display, HTML\n",
    "\n",
    "\n",
    "import seaborn as sns\n",
    "# %matplotlib qt"
   ]
  },
  {
   "cell_type": "code",
   "execution_count": 2,
   "id": "b98153e4",
   "metadata": {},
   "outputs": [],
   "source": [
    "from IPython.display import display_html\n",
    "from itertools import chain,cycle\n",
    "\n",
    "def display_side_by_side(*args,titles=cycle([''])):\n",
    "    html_str=''\n",
    "    for df,title in zip(args, chain(titles,cycle(['</br>'])) ):\n",
    "        html_str+='<th style=\"text-align:center\"><td style=\"vertical-align:top\">'\n",
    "        html_str+=f'<h2 style=\"text-align: center;\">{title}</h2>'\n",
    "        html_str+=df.to_html().replace('table','table style=\"display:inline\"')\n",
    "        html_str+='</td></th>'\n",
    "    display_html(html_str,raw=True)"
   ]
  },
  {
   "cell_type": "markdown",
   "id": "9257777d",
   "metadata": {},
   "source": [
    "## Pandas Dataframes"
   ]
  },
  {
   "cell_type": "markdown",
   "id": "2f7af615",
   "metadata": {},
   "source": [
    "<center>dataframes $\\to$ manipulation $\\to$ results/visualisation</center>"
   ]
  },
  {
   "cell_type": "markdown",
   "id": "b3564b4e",
   "metadata": {},
   "source": [
    "Outline:\n",
    "- Group-by recap\n",
    "- look-up tables / relational databases\n",
    "- apply functions to dataframe\n",
    "- Plotting with seaborn"
   ]
  },
  {
   "cell_type": "markdown",
   "id": "0e189022",
   "metadata": {},
   "source": [
    "# A problem from the aerospace industry"
   ]
  },
  {
   "cell_type": "markdown",
   "id": "9661858c",
   "metadata": {},
   "source": [
    "Our boss has asked us to calculate how much money each airline spent on aircraft parts last year. \n",
    "The data that we have available are:\n",
    "- <b>fleet data</b>: what types of aircraft each airline has;\n",
    "- <b>aircraft type to part number</b>: a look-up table that indicates which part number fits to which aircraft type\n",
    "- <b>cost of each part</b>: a look-up table that indicates how much each part costs to buy"
   ]
  },
  {
   "cell_type": "code",
   "execution_count": 3,
   "id": "604c25b3",
   "metadata": {
    "scrolled": false
   },
   "outputs": [
    {
     "data": {
      "text/html": [
       "<div>\n",
       "<style scoped>\n",
       "    .dataframe tbody tr th:only-of-type {\n",
       "        vertical-align: middle;\n",
       "    }\n",
       "\n",
       "    .dataframe tbody tr th {\n",
       "        vertical-align: top;\n",
       "    }\n",
       "\n",
       "    .dataframe thead th {\n",
       "        text-align: right;\n",
       "    }\n",
       "</style>\n",
       "<table border=\"1\" class=\"dataframe\">\n",
       "  <thead>\n",
       "    <tr style=\"text-align: right;\">\n",
       "      <th></th>\n",
       "      <th>airline</th>\n",
       "      <th>ac_type</th>\n",
       "      <th>variant</th>\n",
       "      <th>number</th>\n",
       "    </tr>\n",
       "  </thead>\n",
       "  <tbody>\n",
       "    <tr>\n",
       "      <th>0</th>\n",
       "      <td>Lufthansa</td>\n",
       "      <td>Boeing</td>\n",
       "      <td>737-100</td>\n",
       "      <td>4</td>\n",
       "    </tr>\n",
       "    <tr>\n",
       "      <th>1</th>\n",
       "      <td>Lufthansa</td>\n",
       "      <td>Boeing</td>\n",
       "      <td>737-100</td>\n",
       "      <td>3</td>\n",
       "    </tr>\n",
       "    <tr>\n",
       "      <th>2</th>\n",
       "      <td>Lufthansa</td>\n",
       "      <td>Boeing</td>\n",
       "      <td>737-100</td>\n",
       "      <td>1</td>\n",
       "    </tr>\n",
       "    <tr>\n",
       "      <th>3</th>\n",
       "      <td>Lufthansa</td>\n",
       "      <td>Boeing</td>\n",
       "      <td>737-200</td>\n",
       "      <td>5</td>\n",
       "    </tr>\n",
       "    <tr>\n",
       "      <th>4</th>\n",
       "      <td>Lufthansa</td>\n",
       "      <td>Airbus</td>\n",
       "      <td>A380</td>\n",
       "      <td>3</td>\n",
       "    </tr>\n",
       "    <tr>\n",
       "      <th>5</th>\n",
       "      <td>Lufthansa</td>\n",
       "      <td>Airbus</td>\n",
       "      <td>A380</td>\n",
       "      <td>6</td>\n",
       "    </tr>\n",
       "    <tr>\n",
       "      <th>6</th>\n",
       "      <td>KLM</td>\n",
       "      <td>Airbus</td>\n",
       "      <td>A380</td>\n",
       "      <td>1</td>\n",
       "    </tr>\n",
       "    <tr>\n",
       "      <th>7</th>\n",
       "      <td>KLM</td>\n",
       "      <td>Airbus</td>\n",
       "      <td>A380</td>\n",
       "      <td>3</td>\n",
       "    </tr>\n",
       "    <tr>\n",
       "      <th>8</th>\n",
       "      <td>KLM</td>\n",
       "      <td>Airbus</td>\n",
       "      <td>A320</td>\n",
       "      <td>3</td>\n",
       "    </tr>\n",
       "    <tr>\n",
       "      <th>9</th>\n",
       "      <td>KLM</td>\n",
       "      <td>Airbus</td>\n",
       "      <td>A320</td>\n",
       "      <td>4</td>\n",
       "    </tr>\n",
       "    <tr>\n",
       "      <th>10</th>\n",
       "      <td>KLM</td>\n",
       "      <td>Airbus</td>\n",
       "      <td>A320</td>\n",
       "      <td>2</td>\n",
       "    </tr>\n",
       "    <tr>\n",
       "      <th>11</th>\n",
       "      <td>Air France</td>\n",
       "      <td>Airbus</td>\n",
       "      <td>A380</td>\n",
       "      <td>2</td>\n",
       "    </tr>\n",
       "    <tr>\n",
       "      <th>12</th>\n",
       "      <td>Air France</td>\n",
       "      <td>Airbus</td>\n",
       "      <td>A380</td>\n",
       "      <td>3</td>\n",
       "    </tr>\n",
       "    <tr>\n",
       "      <th>13</th>\n",
       "      <td>Air France</td>\n",
       "      <td>Boeing</td>\n",
       "      <td>747</td>\n",
       "      <td>4</td>\n",
       "    </tr>\n",
       "  </tbody>\n",
       "</table>\n",
       "</div>"
      ],
      "text/plain": [
       "       airline ac_type  variant  number\n",
       "0    Lufthansa  Boeing  737-100       4\n",
       "1    Lufthansa  Boeing  737-100       3\n",
       "2    Lufthansa  Boeing  737-100       1\n",
       "3    Lufthansa  Boeing  737-200       5\n",
       "4    Lufthansa  Airbus     A380       3\n",
       "5    Lufthansa  Airbus     A380       6\n",
       "6          KLM  Airbus     A380       1\n",
       "7          KLM  Airbus     A380       3\n",
       "8          KLM  Airbus     A320       3\n",
       "9          KLM  Airbus     A320       4\n",
       "10         KLM  Airbus     A320       2\n",
       "11  Air France  Airbus     A380       2\n",
       "12  Air France  Airbus     A380       3\n",
       "13  Air France  Boeing      747       4"
      ]
     },
     "execution_count": 3,
     "metadata": {},
     "output_type": "execute_result"
    }
   ],
   "source": [
    "fl = pd.read_csv(\"airlines_2.csv\")\n",
    "fc = fl.copy()\n",
    "fl"
   ]
  },
  {
   "cell_type": "code",
   "execution_count": 4,
   "id": "5d848cf3",
   "metadata": {
    "scrolled": true
   },
   "outputs": [
    {
     "data": {
      "text/html": [
       "<div>\n",
       "<style scoped>\n",
       "    .dataframe tbody tr th:only-of-type {\n",
       "        vertical-align: middle;\n",
       "    }\n",
       "\n",
       "    .dataframe tbody tr th {\n",
       "        vertical-align: top;\n",
       "    }\n",
       "\n",
       "    .dataframe thead th {\n",
       "        text-align: right;\n",
       "    }\n",
       "</style>\n",
       "<table border=\"1\" class=\"dataframe\">\n",
       "  <thead>\n",
       "    <tr style=\"text-align: right;\">\n",
       "      <th></th>\n",
       "      <th>variant</th>\n",
       "      <th>pn</th>\n",
       "    </tr>\n",
       "  </thead>\n",
       "  <tbody>\n",
       "    <tr>\n",
       "      <th>0</th>\n",
       "      <td>747</td>\n",
       "      <td>PN-1</td>\n",
       "    </tr>\n",
       "    <tr>\n",
       "      <th>1</th>\n",
       "      <td>737-100</td>\n",
       "      <td>PN-2</td>\n",
       "    </tr>\n",
       "    <tr>\n",
       "      <th>2</th>\n",
       "      <td>737-200</td>\n",
       "      <td>PN-3</td>\n",
       "    </tr>\n",
       "    <tr>\n",
       "      <th>3</th>\n",
       "      <td>A320</td>\n",
       "      <td>PN-4</td>\n",
       "    </tr>\n",
       "    <tr>\n",
       "      <th>4</th>\n",
       "      <td>A380</td>\n",
       "      <td>PN-5</td>\n",
       "    </tr>\n",
       "  </tbody>\n",
       "</table>\n",
       "</div>"
      ],
      "text/plain": [
       "   variant    pn\n",
       "0      747  PN-1\n",
       "1  737-100  PN-2\n",
       "2  737-200  PN-3\n",
       "3     A320  PN-4\n",
       "4     A380  PN-5"
      ]
     },
     "execution_count": 4,
     "metadata": {},
     "output_type": "execute_result"
    }
   ],
   "source": [
    "ac_pn = pd.read_csv(\"ac_pn.csv\")\n",
    "ac_pn"
   ]
  },
  {
   "cell_type": "code",
   "execution_count": 5,
   "id": "352cc9f5",
   "metadata": {},
   "outputs": [
    {
     "data": {
      "text/html": [
       "<div>\n",
       "<style scoped>\n",
       "    .dataframe tbody tr th:only-of-type {\n",
       "        vertical-align: middle;\n",
       "    }\n",
       "\n",
       "    .dataframe tbody tr th {\n",
       "        vertical-align: top;\n",
       "    }\n",
       "\n",
       "    .dataframe thead th {\n",
       "        text-align: right;\n",
       "    }\n",
       "</style>\n",
       "<table border=\"1\" class=\"dataframe\">\n",
       "  <thead>\n",
       "    <tr style=\"text-align: right;\">\n",
       "      <th></th>\n",
       "      <th>pn</th>\n",
       "      <th>cost</th>\n",
       "    </tr>\n",
       "  </thead>\n",
       "  <tbody>\n",
       "    <tr>\n",
       "      <th>0</th>\n",
       "      <td>PN-1</td>\n",
       "      <td>2174</td>\n",
       "    </tr>\n",
       "    <tr>\n",
       "      <th>1</th>\n",
       "      <td>PN-2</td>\n",
       "      <td>3925</td>\n",
       "    </tr>\n",
       "    <tr>\n",
       "      <th>2</th>\n",
       "      <td>PN-3</td>\n",
       "      <td>1529</td>\n",
       "    </tr>\n",
       "    <tr>\n",
       "      <th>3</th>\n",
       "      <td>PN-4</td>\n",
       "      <td>4926</td>\n",
       "    </tr>\n",
       "    <tr>\n",
       "      <th>4</th>\n",
       "      <td>PN-5</td>\n",
       "      <td>987</td>\n",
       "    </tr>\n",
       "  </tbody>\n",
       "</table>\n",
       "</div>"
      ],
      "text/plain": [
       "     pn  cost\n",
       "0  PN-1  2174\n",
       "1  PN-2  3925\n",
       "2  PN-3  1529\n",
       "3  PN-4  4926\n",
       "4  PN-5   987"
      ]
     },
     "execution_count": 5,
     "metadata": {},
     "output_type": "execute_result"
    }
   ],
   "source": [
    "pn_cst = pd.read_csv(\"pn_cost.csv\")\n",
    "pn_cst"
   ]
  },
  {
   "cell_type": "code",
   "execution_count": 6,
   "id": "47a7989d",
   "metadata": {},
   "outputs": [
    {
     "data": {
      "text/html": [
       "<th style=\"text-align:center\"><td style=\"vertical-align:top\"><h2 style=\"text-align: center;\">fleet_data</h2><table style=\"display:inline\" border=\"1\" class=\"dataframe\">\n",
       "  <thead>\n",
       "    <tr style=\"text-align: right;\">\n",
       "      <th></th>\n",
       "      <th>airline</th>\n",
       "      <th>ac_type</th>\n",
       "      <th>variant</th>\n",
       "      <th>number</th>\n",
       "    </tr>\n",
       "  </thead>\n",
       "  <tbody>\n",
       "    <tr>\n",
       "      <th>0</th>\n",
       "      <td>Lufthansa</td>\n",
       "      <td>Boeing</td>\n",
       "      <td>737-100</td>\n",
       "      <td>4</td>\n",
       "    </tr>\n",
       "    <tr>\n",
       "      <th>1</th>\n",
       "      <td>Lufthansa</td>\n",
       "      <td>Boeing</td>\n",
       "      <td>737-100</td>\n",
       "      <td>3</td>\n",
       "    </tr>\n",
       "    <tr>\n",
       "      <th>2</th>\n",
       "      <td>Lufthansa</td>\n",
       "      <td>Boeing</td>\n",
       "      <td>737-100</td>\n",
       "      <td>1</td>\n",
       "    </tr>\n",
       "    <tr>\n",
       "      <th>3</th>\n",
       "      <td>Lufthansa</td>\n",
       "      <td>Boeing</td>\n",
       "      <td>737-200</td>\n",
       "      <td>5</td>\n",
       "    </tr>\n",
       "    <tr>\n",
       "      <th>4</th>\n",
       "      <td>Lufthansa</td>\n",
       "      <td>Airbus</td>\n",
       "      <td>A380</td>\n",
       "      <td>3</td>\n",
       "    </tr>\n",
       "    <tr>\n",
       "      <th>5</th>\n",
       "      <td>Lufthansa</td>\n",
       "      <td>Airbus</td>\n",
       "      <td>A380</td>\n",
       "      <td>6</td>\n",
       "    </tr>\n",
       "    <tr>\n",
       "      <th>6</th>\n",
       "      <td>KLM</td>\n",
       "      <td>Airbus</td>\n",
       "      <td>A380</td>\n",
       "      <td>1</td>\n",
       "    </tr>\n",
       "    <tr>\n",
       "      <th>7</th>\n",
       "      <td>KLM</td>\n",
       "      <td>Airbus</td>\n",
       "      <td>A380</td>\n",
       "      <td>3</td>\n",
       "    </tr>\n",
       "    <tr>\n",
       "      <th>8</th>\n",
       "      <td>KLM</td>\n",
       "      <td>Airbus</td>\n",
       "      <td>A320</td>\n",
       "      <td>3</td>\n",
       "    </tr>\n",
       "    <tr>\n",
       "      <th>9</th>\n",
       "      <td>KLM</td>\n",
       "      <td>Airbus</td>\n",
       "      <td>A320</td>\n",
       "      <td>4</td>\n",
       "    </tr>\n",
       "    <tr>\n",
       "      <th>10</th>\n",
       "      <td>KLM</td>\n",
       "      <td>Airbus</td>\n",
       "      <td>A320</td>\n",
       "      <td>2</td>\n",
       "    </tr>\n",
       "    <tr>\n",
       "      <th>11</th>\n",
       "      <td>Air France</td>\n",
       "      <td>Airbus</td>\n",
       "      <td>A380</td>\n",
       "      <td>2</td>\n",
       "    </tr>\n",
       "    <tr>\n",
       "      <th>12</th>\n",
       "      <td>Air France</td>\n",
       "      <td>Airbus</td>\n",
       "      <td>A380</td>\n",
       "      <td>3</td>\n",
       "    </tr>\n",
       "    <tr>\n",
       "      <th>13</th>\n",
       "      <td>Air France</td>\n",
       "      <td>Boeing</td>\n",
       "      <td>747</td>\n",
       "      <td>4</td>\n",
       "    </tr>\n",
       "  </tbody>\n",
       "</table style=\"display:inline\"></td></th><th style=\"text-align:center\"><td style=\"vertical-align:top\"><h2 style=\"text-align: center;\">look-up table 1</h2><table style=\"display:inline\" border=\"1\" class=\"dataframe\">\n",
       "  <thead>\n",
       "    <tr style=\"text-align: right;\">\n",
       "      <th></th>\n",
       "      <th>variant</th>\n",
       "      <th>pn</th>\n",
       "    </tr>\n",
       "  </thead>\n",
       "  <tbody>\n",
       "    <tr>\n",
       "      <th>0</th>\n",
       "      <td>747</td>\n",
       "      <td>PN-1</td>\n",
       "    </tr>\n",
       "    <tr>\n",
       "      <th>1</th>\n",
       "      <td>737-100</td>\n",
       "      <td>PN-2</td>\n",
       "    </tr>\n",
       "    <tr>\n",
       "      <th>2</th>\n",
       "      <td>737-200</td>\n",
       "      <td>PN-3</td>\n",
       "    </tr>\n",
       "    <tr>\n",
       "      <th>3</th>\n",
       "      <td>A320</td>\n",
       "      <td>PN-4</td>\n",
       "    </tr>\n",
       "    <tr>\n",
       "      <th>4</th>\n",
       "      <td>A380</td>\n",
       "      <td>PN-5</td>\n",
       "    </tr>\n",
       "  </tbody>\n",
       "</table style=\"display:inline\"></td></th><th style=\"text-align:center\"><td style=\"vertical-align:top\"><h2 style=\"text-align: center;\">look-up table 2</h2><table style=\"display:inline\" border=\"1\" class=\"dataframe\">\n",
       "  <thead>\n",
       "    <tr style=\"text-align: right;\">\n",
       "      <th></th>\n",
       "      <th>pn</th>\n",
       "      <th>cost</th>\n",
       "    </tr>\n",
       "  </thead>\n",
       "  <tbody>\n",
       "    <tr>\n",
       "      <th>0</th>\n",
       "      <td>PN-1</td>\n",
       "      <td>2174</td>\n",
       "    </tr>\n",
       "    <tr>\n",
       "      <th>1</th>\n",
       "      <td>PN-2</td>\n",
       "      <td>3925</td>\n",
       "    </tr>\n",
       "    <tr>\n",
       "      <th>2</th>\n",
       "      <td>PN-3</td>\n",
       "      <td>1529</td>\n",
       "    </tr>\n",
       "    <tr>\n",
       "      <th>3</th>\n",
       "      <td>PN-4</td>\n",
       "      <td>4926</td>\n",
       "    </tr>\n",
       "    <tr>\n",
       "      <th>4</th>\n",
       "      <td>PN-5</td>\n",
       "      <td>987</td>\n",
       "    </tr>\n",
       "  </tbody>\n",
       "</table style=\"display:inline\"></td></th>"
      ]
     },
     "metadata": {},
     "output_type": "display_data"
    }
   ],
   "source": [
    "display_side_by_side(fl,ac_pn, pn_cst, titles = ['fleet_data', 'look-up table 1', 'look-up table 2'])"
   ]
  },
  {
   "cell_type": "markdown",
   "id": "fa8294e0",
   "metadata": {},
   "source": [
    "## Grouping-by"
   ]
  },
  {
   "cell_type": "markdown",
   "id": "a99cbe9c",
   "metadata": {},
   "source": [
    "- slow way to do it:"
   ]
  },
  {
   "cell_type": "code",
   "execution_count": 7,
   "id": "b32e6699",
   "metadata": {},
   "outputs": [
    {
     "data": {
      "text/html": [
       "<div>\n",
       "<style scoped>\n",
       "    .dataframe tbody tr th:only-of-type {\n",
       "        vertical-align: middle;\n",
       "    }\n",
       "\n",
       "    .dataframe tbody tr th {\n",
       "        vertical-align: top;\n",
       "    }\n",
       "\n",
       "    .dataframe thead th {\n",
       "        text-align: right;\n",
       "    }\n",
       "</style>\n",
       "<table border=\"1\" class=\"dataframe\">\n",
       "  <thead>\n",
       "    <tr style=\"text-align: right;\">\n",
       "      <th></th>\n",
       "      <th>airline</th>\n",
       "      <th>ac_type</th>\n",
       "      <th>variant</th>\n",
       "      <th>number</th>\n",
       "    </tr>\n",
       "  </thead>\n",
       "  <tbody>\n",
       "    <tr>\n",
       "      <th>0</th>\n",
       "      <td>Lufthansa</td>\n",
       "      <td>Boeing</td>\n",
       "      <td>737-100</td>\n",
       "      <td>4</td>\n",
       "    </tr>\n",
       "    <tr>\n",
       "      <th>1</th>\n",
       "      <td>Lufthansa</td>\n",
       "      <td>Boeing</td>\n",
       "      <td>737-100</td>\n",
       "      <td>3</td>\n",
       "    </tr>\n",
       "    <tr>\n",
       "      <th>2</th>\n",
       "      <td>Lufthansa</td>\n",
       "      <td>Boeing</td>\n",
       "      <td>737-100</td>\n",
       "      <td>1</td>\n",
       "    </tr>\n",
       "    <tr>\n",
       "      <th>3</th>\n",
       "      <td>Lufthansa</td>\n",
       "      <td>Boeing</td>\n",
       "      <td>737-200</td>\n",
       "      <td>5</td>\n",
       "    </tr>\n",
       "    <tr>\n",
       "      <th>4</th>\n",
       "      <td>Lufthansa</td>\n",
       "      <td>Airbus</td>\n",
       "      <td>A380</td>\n",
       "      <td>3</td>\n",
       "    </tr>\n",
       "    <tr>\n",
       "      <th>5</th>\n",
       "      <td>Lufthansa</td>\n",
       "      <td>Airbus</td>\n",
       "      <td>A380</td>\n",
       "      <td>6</td>\n",
       "    </tr>\n",
       "  </tbody>\n",
       "</table>\n",
       "</div>"
      ],
      "text/plain": [
       "     airline ac_type  variant  number\n",
       "0  Lufthansa  Boeing  737-100       4\n",
       "1  Lufthansa  Boeing  737-100       3\n",
       "2  Lufthansa  Boeing  737-100       1\n",
       "3  Lufthansa  Boeing  737-200       5\n",
       "4  Lufthansa  Airbus     A380       3\n",
       "5  Lufthansa  Airbus     A380       6"
      ]
     },
     "execution_count": 7,
     "metadata": {},
     "output_type": "execute_result"
    }
   ],
   "source": [
    "airln = \"Lufthansa\"\n",
    "\n",
    "lh = fl.loc[fl.airline == airln] # locating entries\n",
    "lh"
   ]
  },
  {
   "cell_type": "code",
   "execution_count": 8,
   "id": "d48e9182",
   "metadata": {},
   "outputs": [
    {
     "data": {
      "text/plain": [
       "['737-100', '737-100', '737-100', '737-200', 'A380', 'A380']"
      ]
     },
     "execution_count": 8,
     "metadata": {},
     "output_type": "execute_result"
    }
   ],
   "source": [
    "lh['variant'].to_list()"
   ]
  },
  {
   "cell_type": "code",
   "execution_count": 9,
   "id": "6323112d",
   "metadata": {},
   "outputs": [
    {
     "data": {
      "text/plain": [
       "{'737-100', '737-200', 'A380'}"
      ]
     },
     "execution_count": 9,
     "metadata": {},
     "output_type": "execute_result"
    }
   ],
   "source": [
    "set(lh['variant'].to_list())"
   ]
  },
  {
   "cell_type": "code",
   "execution_count": 10,
   "id": "3d02c5be",
   "metadata": {},
   "outputs": [
    {
     "data": {
      "text/plain": [
       "['737-200', 'A380', '737-100']"
      ]
     },
     "execution_count": 10,
     "metadata": {},
     "output_type": "execute_result"
    }
   ],
   "source": [
    "lh_vars = list(set(lh['variant'].to_list()))\n",
    "lh_vars"
   ]
  },
  {
   "cell_type": "code",
   "execution_count": 11,
   "id": "ed2228a0",
   "metadata": {},
   "outputs": [
    {
     "data": {
      "text/html": [
       "<div>\n",
       "<style scoped>\n",
       "    .dataframe tbody tr th:only-of-type {\n",
       "        vertical-align: middle;\n",
       "    }\n",
       "\n",
       "    .dataframe tbody tr th {\n",
       "        vertical-align: top;\n",
       "    }\n",
       "\n",
       "    .dataframe thead th {\n",
       "        text-align: right;\n",
       "    }\n",
       "</style>\n",
       "<table border=\"1\" class=\"dataframe\">\n",
       "  <thead>\n",
       "    <tr style=\"text-align: right;\">\n",
       "      <th></th>\n",
       "      <th>airline</th>\n",
       "      <th>ac_type</th>\n",
       "      <th>variant</th>\n",
       "      <th>number</th>\n",
       "    </tr>\n",
       "  </thead>\n",
       "  <tbody>\n",
       "    <tr>\n",
       "      <th>0</th>\n",
       "      <td>Lufthansa</td>\n",
       "      <td>Boeing</td>\n",
       "      <td>737-100</td>\n",
       "      <td>4</td>\n",
       "    </tr>\n",
       "    <tr>\n",
       "      <th>1</th>\n",
       "      <td>Lufthansa</td>\n",
       "      <td>Boeing</td>\n",
       "      <td>737-100</td>\n",
       "      <td>3</td>\n",
       "    </tr>\n",
       "    <tr>\n",
       "      <th>2</th>\n",
       "      <td>Lufthansa</td>\n",
       "      <td>Boeing</td>\n",
       "      <td>737-100</td>\n",
       "      <td>1</td>\n",
       "    </tr>\n",
       "  </tbody>\n",
       "</table>\n",
       "</div>"
      ],
      "text/plain": [
       "     airline ac_type  variant  number\n",
       "0  Lufthansa  Boeing  737-100       4\n",
       "1  Lufthansa  Boeing  737-100       3\n",
       "2  Lufthansa  Boeing  737-100       1"
      ]
     },
     "execution_count": 11,
     "metadata": {},
     "output_type": "execute_result"
    }
   ],
   "source": [
    "var = '737-100'\n",
    "lh.loc[lh.variant == var]"
   ]
  },
  {
   "cell_type": "code",
   "execution_count": 12,
   "id": "0f05f98c",
   "metadata": {},
   "outputs": [
    {
     "data": {
      "text/plain": [
       "8"
      ]
     },
     "execution_count": 12,
     "metadata": {},
     "output_type": "execute_result"
    }
   ],
   "source": [
    "lh.loc[lh.variant == var]['number'].sum()"
   ]
  },
  {
   "cell_type": "code",
   "execution_count": 13,
   "id": "942ebb9f",
   "metadata": {},
   "outputs": [
    {
     "data": {
      "text/html": [
       "<div>\n",
       "<style scoped>\n",
       "    .dataframe tbody tr th:only-of-type {\n",
       "        vertical-align: middle;\n",
       "    }\n",
       "\n",
       "    .dataframe tbody tr th {\n",
       "        vertical-align: top;\n",
       "    }\n",
       "\n",
       "    .dataframe thead th {\n",
       "        text-align: right;\n",
       "    }\n",
       "</style>\n",
       "<table border=\"1\" class=\"dataframe\">\n",
       "  <thead>\n",
       "    <tr style=\"text-align: right;\">\n",
       "      <th></th>\n",
       "      <th>airline</th>\n",
       "      <th>ac_type</th>\n",
       "      <th>variant</th>\n",
       "      <th>number</th>\n",
       "    </tr>\n",
       "  </thead>\n",
       "  <tbody>\n",
       "    <tr>\n",
       "      <th>3</th>\n",
       "      <td>Lufthansa</td>\n",
       "      <td>Boeing</td>\n",
       "      <td>737-200</td>\n",
       "      <td>5</td>\n",
       "    </tr>\n",
       "  </tbody>\n",
       "</table>\n",
       "</div>"
      ],
      "text/plain": [
       "     airline ac_type  variant  number\n",
       "3  Lufthansa  Boeing  737-200       5"
      ]
     },
     "execution_count": 13,
     "metadata": {},
     "output_type": "execute_result"
    }
   ],
   "source": [
    "var = '737-200'\n",
    "lh.loc[lh.variant == var]"
   ]
  },
  {
   "cell_type": "code",
   "execution_count": 14,
   "id": "63e60e47",
   "metadata": {},
   "outputs": [
    {
     "data": {
      "text/plain": [
       "5"
      ]
     },
     "execution_count": 14,
     "metadata": {},
     "output_type": "execute_result"
    }
   ],
   "source": [
    "lh.loc[lh.variant == var]['number'].sum()"
   ]
  },
  {
   "cell_type": "markdown",
   "id": "b798f6bc",
   "metadata": {},
   "source": [
    "- fast way to do it:"
   ]
  },
  {
   "cell_type": "code",
   "execution_count": 15,
   "id": "99468150",
   "metadata": {},
   "outputs": [
    {
     "data": {
      "text/html": [
       "<div>\n",
       "<style scoped>\n",
       "    .dataframe tbody tr th:only-of-type {\n",
       "        vertical-align: middle;\n",
       "    }\n",
       "\n",
       "    .dataframe tbody tr th {\n",
       "        vertical-align: top;\n",
       "    }\n",
       "\n",
       "    .dataframe thead th {\n",
       "        text-align: right;\n",
       "    }\n",
       "</style>\n",
       "<table border=\"1\" class=\"dataframe\">\n",
       "  <thead>\n",
       "    <tr style=\"text-align: right;\">\n",
       "      <th></th>\n",
       "      <th>airline</th>\n",
       "      <th>ac_type</th>\n",
       "      <th>variant</th>\n",
       "      <th>number</th>\n",
       "    </tr>\n",
       "  </thead>\n",
       "  <tbody>\n",
       "    <tr>\n",
       "      <th>0</th>\n",
       "      <td>Lufthansa</td>\n",
       "      <td>Boeing</td>\n",
       "      <td>737-100</td>\n",
       "      <td>4</td>\n",
       "    </tr>\n",
       "    <tr>\n",
       "      <th>1</th>\n",
       "      <td>Lufthansa</td>\n",
       "      <td>Boeing</td>\n",
       "      <td>737-100</td>\n",
       "      <td>3</td>\n",
       "    </tr>\n",
       "    <tr>\n",
       "      <th>2</th>\n",
       "      <td>Lufthansa</td>\n",
       "      <td>Boeing</td>\n",
       "      <td>737-100</td>\n",
       "      <td>1</td>\n",
       "    </tr>\n",
       "    <tr>\n",
       "      <th>3</th>\n",
       "      <td>Lufthansa</td>\n",
       "      <td>Boeing</td>\n",
       "      <td>737-200</td>\n",
       "      <td>5</td>\n",
       "    </tr>\n",
       "    <tr>\n",
       "      <th>4</th>\n",
       "      <td>Lufthansa</td>\n",
       "      <td>Airbus</td>\n",
       "      <td>A380</td>\n",
       "      <td>3</td>\n",
       "    </tr>\n",
       "    <tr>\n",
       "      <th>5</th>\n",
       "      <td>Lufthansa</td>\n",
       "      <td>Airbus</td>\n",
       "      <td>A380</td>\n",
       "      <td>6</td>\n",
       "    </tr>\n",
       "    <tr>\n",
       "      <th>6</th>\n",
       "      <td>KLM</td>\n",
       "      <td>Airbus</td>\n",
       "      <td>A380</td>\n",
       "      <td>1</td>\n",
       "    </tr>\n",
       "    <tr>\n",
       "      <th>7</th>\n",
       "      <td>KLM</td>\n",
       "      <td>Airbus</td>\n",
       "      <td>A380</td>\n",
       "      <td>3</td>\n",
       "    </tr>\n",
       "    <tr>\n",
       "      <th>8</th>\n",
       "      <td>KLM</td>\n",
       "      <td>Airbus</td>\n",
       "      <td>A320</td>\n",
       "      <td>3</td>\n",
       "    </tr>\n",
       "    <tr>\n",
       "      <th>9</th>\n",
       "      <td>KLM</td>\n",
       "      <td>Airbus</td>\n",
       "      <td>A320</td>\n",
       "      <td>4</td>\n",
       "    </tr>\n",
       "    <tr>\n",
       "      <th>10</th>\n",
       "      <td>KLM</td>\n",
       "      <td>Airbus</td>\n",
       "      <td>A320</td>\n",
       "      <td>2</td>\n",
       "    </tr>\n",
       "    <tr>\n",
       "      <th>11</th>\n",
       "      <td>Air France</td>\n",
       "      <td>Airbus</td>\n",
       "      <td>A380</td>\n",
       "      <td>2</td>\n",
       "    </tr>\n",
       "    <tr>\n",
       "      <th>12</th>\n",
       "      <td>Air France</td>\n",
       "      <td>Airbus</td>\n",
       "      <td>A380</td>\n",
       "      <td>3</td>\n",
       "    </tr>\n",
       "    <tr>\n",
       "      <th>13</th>\n",
       "      <td>Air France</td>\n",
       "      <td>Boeing</td>\n",
       "      <td>747</td>\n",
       "      <td>4</td>\n",
       "    </tr>\n",
       "  </tbody>\n",
       "</table>\n",
       "</div>"
      ],
      "text/plain": [
       "       airline ac_type  variant  number\n",
       "0    Lufthansa  Boeing  737-100       4\n",
       "1    Lufthansa  Boeing  737-100       3\n",
       "2    Lufthansa  Boeing  737-100       1\n",
       "3    Lufthansa  Boeing  737-200       5\n",
       "4    Lufthansa  Airbus     A380       3\n",
       "5    Lufthansa  Airbus     A380       6\n",
       "6          KLM  Airbus     A380       1\n",
       "7          KLM  Airbus     A380       3\n",
       "8          KLM  Airbus     A320       3\n",
       "9          KLM  Airbus     A320       4\n",
       "10         KLM  Airbus     A320       2\n",
       "11  Air France  Airbus     A380       2\n",
       "12  Air France  Airbus     A380       3\n",
       "13  Air France  Boeing      747       4"
      ]
     },
     "execution_count": 15,
     "metadata": {},
     "output_type": "execute_result"
    }
   ],
   "source": [
    "fl"
   ]
  },
  {
   "cell_type": "code",
   "execution_count": 16,
   "id": "79a7398c",
   "metadata": {},
   "outputs": [
    {
     "data": {
      "text/html": [
       "<div>\n",
       "<style scoped>\n",
       "    .dataframe tbody tr th:only-of-type {\n",
       "        vertical-align: middle;\n",
       "    }\n",
       "\n",
       "    .dataframe tbody tr th {\n",
       "        vertical-align: top;\n",
       "    }\n",
       "\n",
       "    .dataframe thead th {\n",
       "        text-align: right;\n",
       "    }\n",
       "</style>\n",
       "<table border=\"1\" class=\"dataframe\">\n",
       "  <thead>\n",
       "    <tr style=\"text-align: right;\">\n",
       "      <th></th>\n",
       "      <th>airline</th>\n",
       "      <th>ac_type</th>\n",
       "      <th>variant</th>\n",
       "      <th>number</th>\n",
       "    </tr>\n",
       "  </thead>\n",
       "  <tbody>\n",
       "    <tr>\n",
       "      <th>0</th>\n",
       "      <td>Air France</td>\n",
       "      <td>Airbus</td>\n",
       "      <td>A380</td>\n",
       "      <td>5</td>\n",
       "    </tr>\n",
       "    <tr>\n",
       "      <th>1</th>\n",
       "      <td>Air France</td>\n",
       "      <td>Boeing</td>\n",
       "      <td>747</td>\n",
       "      <td>4</td>\n",
       "    </tr>\n",
       "    <tr>\n",
       "      <th>2</th>\n",
       "      <td>KLM</td>\n",
       "      <td>Airbus</td>\n",
       "      <td>A320</td>\n",
       "      <td>9</td>\n",
       "    </tr>\n",
       "    <tr>\n",
       "      <th>3</th>\n",
       "      <td>KLM</td>\n",
       "      <td>Airbus</td>\n",
       "      <td>A380</td>\n",
       "      <td>4</td>\n",
       "    </tr>\n",
       "    <tr>\n",
       "      <th>4</th>\n",
       "      <td>Lufthansa</td>\n",
       "      <td>Airbus</td>\n",
       "      <td>A380</td>\n",
       "      <td>9</td>\n",
       "    </tr>\n",
       "    <tr>\n",
       "      <th>5</th>\n",
       "      <td>Lufthansa</td>\n",
       "      <td>Boeing</td>\n",
       "      <td>737-100</td>\n",
       "      <td>8</td>\n",
       "    </tr>\n",
       "    <tr>\n",
       "      <th>6</th>\n",
       "      <td>Lufthansa</td>\n",
       "      <td>Boeing</td>\n",
       "      <td>737-200</td>\n",
       "      <td>5</td>\n",
       "    </tr>\n",
       "  </tbody>\n",
       "</table>\n",
       "</div>"
      ],
      "text/plain": [
       "      airline ac_type  variant  number\n",
       "0  Air France  Airbus     A380       5\n",
       "1  Air France  Boeing      747       4\n",
       "2         KLM  Airbus     A320       9\n",
       "3         KLM  Airbus     A380       4\n",
       "4   Lufthansa  Airbus     A380       9\n",
       "5   Lufthansa  Boeing  737-100       8\n",
       "6   Lufthansa  Boeing  737-200       5"
      ]
     },
     "execution_count": 16,
     "metadata": {},
     "output_type": "execute_result"
    }
   ],
   "source": [
    "fl_gr = fl.groupby(['airline', 'ac_type', 'variant']).sum(numeric_only = True).reset_index()\n",
    "fl_gr"
   ]
  },
  {
   "cell_type": "markdown",
   "id": "60c84de2",
   "metadata": {},
   "source": [
    "### Look-up tables"
   ]
  },
  {
   "cell_type": "markdown",
   "id": "02ed25b1",
   "metadata": {},
   "source": [
    "#### - adding a PN column"
   ]
  },
  {
   "cell_type": "code",
   "execution_count": 17,
   "id": "48006ef5",
   "metadata": {},
   "outputs": [
    {
     "data": {
      "text/html": [
       "<th style=\"text-align:center\"><td style=\"vertical-align:top\"><h2 style=\"text-align: center;\"></h2><table style=\"display:inline\" border=\"1\" class=\"dataframe\">\n",
       "  <thead>\n",
       "    <tr style=\"text-align: right;\">\n",
       "      <th></th>\n",
       "      <th>airline</th>\n",
       "      <th>ac_type</th>\n",
       "      <th>variant</th>\n",
       "      <th>number</th>\n",
       "    </tr>\n",
       "  </thead>\n",
       "  <tbody>\n",
       "    <tr>\n",
       "      <th>0</th>\n",
       "      <td>Air France</td>\n",
       "      <td>Airbus</td>\n",
       "      <td>A380</td>\n",
       "      <td>5</td>\n",
       "    </tr>\n",
       "    <tr>\n",
       "      <th>1</th>\n",
       "      <td>Air France</td>\n",
       "      <td>Boeing</td>\n",
       "      <td>747</td>\n",
       "      <td>4</td>\n",
       "    </tr>\n",
       "    <tr>\n",
       "      <th>2</th>\n",
       "      <td>KLM</td>\n",
       "      <td>Airbus</td>\n",
       "      <td>A320</td>\n",
       "      <td>9</td>\n",
       "    </tr>\n",
       "    <tr>\n",
       "      <th>3</th>\n",
       "      <td>KLM</td>\n",
       "      <td>Airbus</td>\n",
       "      <td>A380</td>\n",
       "      <td>4</td>\n",
       "    </tr>\n",
       "    <tr>\n",
       "      <th>4</th>\n",
       "      <td>Lufthansa</td>\n",
       "      <td>Airbus</td>\n",
       "      <td>A380</td>\n",
       "      <td>9</td>\n",
       "    </tr>\n",
       "    <tr>\n",
       "      <th>5</th>\n",
       "      <td>Lufthansa</td>\n",
       "      <td>Boeing</td>\n",
       "      <td>737-100</td>\n",
       "      <td>8</td>\n",
       "    </tr>\n",
       "    <tr>\n",
       "      <th>6</th>\n",
       "      <td>Lufthansa</td>\n",
       "      <td>Boeing</td>\n",
       "      <td>737-200</td>\n",
       "      <td>5</td>\n",
       "    </tr>\n",
       "  </tbody>\n",
       "</table style=\"display:inline\"></td></th><th style=\"text-align:center\"><td style=\"vertical-align:top\"><h2 style=\"text-align: center;\"></h2><table style=\"display:inline\" border=\"1\" class=\"dataframe\">\n",
       "  <thead>\n",
       "    <tr style=\"text-align: right;\">\n",
       "      <th></th>\n",
       "      <th>variant</th>\n",
       "      <th>pn</th>\n",
       "    </tr>\n",
       "  </thead>\n",
       "  <tbody>\n",
       "    <tr>\n",
       "      <th>0</th>\n",
       "      <td>747</td>\n",
       "      <td>PN-1</td>\n",
       "    </tr>\n",
       "    <tr>\n",
       "      <th>1</th>\n",
       "      <td>737-100</td>\n",
       "      <td>PN-2</td>\n",
       "    </tr>\n",
       "    <tr>\n",
       "      <th>2</th>\n",
       "      <td>737-200</td>\n",
       "      <td>PN-3</td>\n",
       "    </tr>\n",
       "    <tr>\n",
       "      <th>3</th>\n",
       "      <td>A320</td>\n",
       "      <td>PN-4</td>\n",
       "    </tr>\n",
       "    <tr>\n",
       "      <th>4</th>\n",
       "      <td>A380</td>\n",
       "      <td>PN-5</td>\n",
       "    </tr>\n",
       "  </tbody>\n",
       "</table style=\"display:inline\"></td></th>"
      ]
     },
     "metadata": {},
     "output_type": "display_data"
    }
   ],
   "source": [
    "display_side_by_side(fl_gr,ac_pn)"
   ]
  },
  {
   "cell_type": "code",
   "execution_count": 18,
   "id": "d21d8aa1",
   "metadata": {},
   "outputs": [
    {
     "data": {
      "text/plain": [
       "{'747': 'PN-1',\n",
       " '737-100': 'PN-2',\n",
       " '737-200': 'PN-3',\n",
       " 'A320': 'PN-4',\n",
       " 'A380': 'PN-5'}"
      ]
     },
     "execution_count": 18,
     "metadata": {},
     "output_type": "execute_result"
    }
   ],
   "source": [
    "ac_lu = dict(zip(ac_pn.variant, ac_pn.pn))\n",
    "ac_lu"
   ]
  },
  {
   "cell_type": "code",
   "execution_count": 19,
   "id": "63d6df25",
   "metadata": {
    "scrolled": true
   },
   "outputs": [
    {
     "data": {
      "text/html": [
       "<div>\n",
       "<style scoped>\n",
       "    .dataframe tbody tr th:only-of-type {\n",
       "        vertical-align: middle;\n",
       "    }\n",
       "\n",
       "    .dataframe tbody tr th {\n",
       "        vertical-align: top;\n",
       "    }\n",
       "\n",
       "    .dataframe thead th {\n",
       "        text-align: right;\n",
       "    }\n",
       "</style>\n",
       "<table border=\"1\" class=\"dataframe\">\n",
       "  <thead>\n",
       "    <tr style=\"text-align: right;\">\n",
       "      <th></th>\n",
       "      <th>airline</th>\n",
       "      <th>ac_type</th>\n",
       "      <th>variant</th>\n",
       "      <th>number</th>\n",
       "      <th>PN</th>\n",
       "    </tr>\n",
       "  </thead>\n",
       "  <tbody>\n",
       "    <tr>\n",
       "      <th>0</th>\n",
       "      <td>Air France</td>\n",
       "      <td>Airbus</td>\n",
       "      <td>A380</td>\n",
       "      <td>5</td>\n",
       "      <td>PN-5</td>\n",
       "    </tr>\n",
       "    <tr>\n",
       "      <th>1</th>\n",
       "      <td>Air France</td>\n",
       "      <td>Boeing</td>\n",
       "      <td>747</td>\n",
       "      <td>4</td>\n",
       "      <td>NaN</td>\n",
       "    </tr>\n",
       "    <tr>\n",
       "      <th>2</th>\n",
       "      <td>KLM</td>\n",
       "      <td>Airbus</td>\n",
       "      <td>A320</td>\n",
       "      <td>9</td>\n",
       "      <td>NaN</td>\n",
       "    </tr>\n",
       "    <tr>\n",
       "      <th>3</th>\n",
       "      <td>KLM</td>\n",
       "      <td>Airbus</td>\n",
       "      <td>A380</td>\n",
       "      <td>4</td>\n",
       "      <td>PN-5</td>\n",
       "    </tr>\n",
       "    <tr>\n",
       "      <th>4</th>\n",
       "      <td>Lufthansa</td>\n",
       "      <td>Airbus</td>\n",
       "      <td>A380</td>\n",
       "      <td>9</td>\n",
       "      <td>PN-5</td>\n",
       "    </tr>\n",
       "    <tr>\n",
       "      <th>5</th>\n",
       "      <td>Lufthansa</td>\n",
       "      <td>Boeing</td>\n",
       "      <td>737-100</td>\n",
       "      <td>8</td>\n",
       "      <td>NaN</td>\n",
       "    </tr>\n",
       "    <tr>\n",
       "      <th>6</th>\n",
       "      <td>Lufthansa</td>\n",
       "      <td>Boeing</td>\n",
       "      <td>737-200</td>\n",
       "      <td>5</td>\n",
       "      <td>NaN</td>\n",
       "    </tr>\n",
       "  </tbody>\n",
       "</table>\n",
       "</div>"
      ],
      "text/plain": [
       "      airline ac_type  variant  number    PN\n",
       "0  Air France  Airbus     A380       5  PN-5\n",
       "1  Air France  Boeing      747       4   NaN\n",
       "2         KLM  Airbus     A320       9   NaN\n",
       "3         KLM  Airbus     A380       4  PN-5\n",
       "4   Lufthansa  Airbus     A380       9  PN-5\n",
       "5   Lufthansa  Boeing  737-100       8   NaN\n",
       "6   Lufthansa  Boeing  737-200       5   NaN"
      ]
     },
     "execution_count": 19,
     "metadata": {},
     "output_type": "execute_result"
    }
   ],
   "source": [
    "variant = \"A380\"\n",
    "fl_gr.loc[fl_gr.variant == variant, \"PN\"] = ac_lu[variant]\n",
    "fl_gr"
   ]
  },
  {
   "cell_type": "markdown",
   "id": "1c5f6d7f",
   "metadata": {},
   "source": [
    "- alternative: for-loop"
   ]
  },
  {
   "cell_type": "code",
   "execution_count": 20,
   "id": "4ee091bc",
   "metadata": {},
   "outputs": [],
   "source": [
    "for vrnt in [\"737-100\", \"737-200\", \"A380\", \"A320\", \"747\"]:\n",
    "    fl_gr.loc[fl_gr.variant == vrnt, \"PN\"] = ac_lu[vrnt]"
   ]
  },
  {
   "cell_type": "code",
   "execution_count": null,
   "id": "8b23ad8e",
   "metadata": {},
   "outputs": [],
   "source": []
  },
  {
   "cell_type": "code",
   "execution_count": 21,
   "id": "5b58b3ae",
   "metadata": {},
   "outputs": [],
   "source": [
    "for vrnt in [\"737-100\", \"737-200\", \"A380\", \"A320\", \"747\"]:\n",
    "    fc.loc[fc.variant == vrnt, \"PN\"] = ac_lu[vrnt]"
   ]
  },
  {
   "cell_type": "code",
   "execution_count": 22,
   "id": "6446e3b2",
   "metadata": {},
   "outputs": [
    {
     "data": {
      "text/html": [
       "<div>\n",
       "<style scoped>\n",
       "    .dataframe tbody tr th:only-of-type {\n",
       "        vertical-align: middle;\n",
       "    }\n",
       "\n",
       "    .dataframe tbody tr th {\n",
       "        vertical-align: top;\n",
       "    }\n",
       "\n",
       "    .dataframe thead th {\n",
       "        text-align: right;\n",
       "    }\n",
       "</style>\n",
       "<table border=\"1\" class=\"dataframe\">\n",
       "  <thead>\n",
       "    <tr style=\"text-align: right;\">\n",
       "      <th></th>\n",
       "      <th>airline</th>\n",
       "      <th>ac_type</th>\n",
       "      <th>variant</th>\n",
       "      <th>number</th>\n",
       "      <th>PN</th>\n",
       "    </tr>\n",
       "  </thead>\n",
       "  <tbody>\n",
       "    <tr>\n",
       "      <th>0</th>\n",
       "      <td>Air France</td>\n",
       "      <td>Airbus</td>\n",
       "      <td>A380</td>\n",
       "      <td>5</td>\n",
       "      <td>PN-5</td>\n",
       "    </tr>\n",
       "    <tr>\n",
       "      <th>1</th>\n",
       "      <td>Air France</td>\n",
       "      <td>Boeing</td>\n",
       "      <td>747</td>\n",
       "      <td>4</td>\n",
       "      <td>PN-1</td>\n",
       "    </tr>\n",
       "    <tr>\n",
       "      <th>2</th>\n",
       "      <td>KLM</td>\n",
       "      <td>Airbus</td>\n",
       "      <td>A320</td>\n",
       "      <td>9</td>\n",
       "      <td>PN-4</td>\n",
       "    </tr>\n",
       "    <tr>\n",
       "      <th>3</th>\n",
       "      <td>KLM</td>\n",
       "      <td>Airbus</td>\n",
       "      <td>A380</td>\n",
       "      <td>4</td>\n",
       "      <td>PN-5</td>\n",
       "    </tr>\n",
       "    <tr>\n",
       "      <th>4</th>\n",
       "      <td>Lufthansa</td>\n",
       "      <td>Airbus</td>\n",
       "      <td>A380</td>\n",
       "      <td>9</td>\n",
       "      <td>PN-5</td>\n",
       "    </tr>\n",
       "    <tr>\n",
       "      <th>5</th>\n",
       "      <td>Lufthansa</td>\n",
       "      <td>Boeing</td>\n",
       "      <td>737-100</td>\n",
       "      <td>8</td>\n",
       "      <td>PN-2</td>\n",
       "    </tr>\n",
       "    <tr>\n",
       "      <th>6</th>\n",
       "      <td>Lufthansa</td>\n",
       "      <td>Boeing</td>\n",
       "      <td>737-200</td>\n",
       "      <td>5</td>\n",
       "      <td>PN-3</td>\n",
       "    </tr>\n",
       "  </tbody>\n",
       "</table>\n",
       "</div>"
      ],
      "text/plain": [
       "      airline ac_type  variant  number    PN\n",
       "0  Air France  Airbus     A380       5  PN-5\n",
       "1  Air France  Boeing      747       4  PN-1\n",
       "2         KLM  Airbus     A320       9  PN-4\n",
       "3         KLM  Airbus     A380       4  PN-5\n",
       "4   Lufthansa  Airbus     A380       9  PN-5\n",
       "5   Lufthansa  Boeing  737-100       8  PN-2\n",
       "6   Lufthansa  Boeing  737-200       5  PN-3"
      ]
     },
     "execution_count": 22,
     "metadata": {},
     "output_type": "execute_result"
    }
   ],
   "source": [
    "fl_gr"
   ]
  },
  {
   "cell_type": "markdown",
   "id": "0a25015a",
   "metadata": {},
   "source": [
    "#### - adding cost column"
   ]
  },
  {
   "cell_type": "code",
   "execution_count": 23,
   "id": "b4f57ca4",
   "metadata": {},
   "outputs": [
    {
     "data": {
      "text/plain": [
       "{'PN-1': 2174, 'PN-2': 3925, 'PN-3': 1529, 'PN-4': 4926, 'PN-5': 987}"
      ]
     },
     "execution_count": 23,
     "metadata": {},
     "output_type": "execute_result"
    }
   ],
   "source": [
    "pn_lu = dict(zip(pn_cst.pn, pn_cst.cost))\n",
    "pn_lu"
   ]
  },
  {
   "cell_type": "code",
   "execution_count": 24,
   "id": "c796133f",
   "metadata": {
    "scrolled": true
   },
   "outputs": [
    {
     "data": {
      "text/html": [
       "<div>\n",
       "<style scoped>\n",
       "    .dataframe tbody tr th:only-of-type {\n",
       "        vertical-align: middle;\n",
       "    }\n",
       "\n",
       "    .dataframe tbody tr th {\n",
       "        vertical-align: top;\n",
       "    }\n",
       "\n",
       "    .dataframe thead th {\n",
       "        text-align: right;\n",
       "    }\n",
       "</style>\n",
       "<table border=\"1\" class=\"dataframe\">\n",
       "  <thead>\n",
       "    <tr style=\"text-align: right;\">\n",
       "      <th></th>\n",
       "      <th>airline</th>\n",
       "      <th>ac_type</th>\n",
       "      <th>variant</th>\n",
       "      <th>number</th>\n",
       "      <th>PN</th>\n",
       "      <th>cost/part</th>\n",
       "    </tr>\n",
       "  </thead>\n",
       "  <tbody>\n",
       "    <tr>\n",
       "      <th>0</th>\n",
       "      <td>Air France</td>\n",
       "      <td>Airbus</td>\n",
       "      <td>A380</td>\n",
       "      <td>5</td>\n",
       "      <td>PN-5</td>\n",
       "      <td>987.0</td>\n",
       "    </tr>\n",
       "    <tr>\n",
       "      <th>1</th>\n",
       "      <td>Air France</td>\n",
       "      <td>Boeing</td>\n",
       "      <td>747</td>\n",
       "      <td>4</td>\n",
       "      <td>PN-1</td>\n",
       "      <td>NaN</td>\n",
       "    </tr>\n",
       "    <tr>\n",
       "      <th>2</th>\n",
       "      <td>KLM</td>\n",
       "      <td>Airbus</td>\n",
       "      <td>A320</td>\n",
       "      <td>9</td>\n",
       "      <td>PN-4</td>\n",
       "      <td>NaN</td>\n",
       "    </tr>\n",
       "    <tr>\n",
       "      <th>3</th>\n",
       "      <td>KLM</td>\n",
       "      <td>Airbus</td>\n",
       "      <td>A380</td>\n",
       "      <td>4</td>\n",
       "      <td>PN-5</td>\n",
       "      <td>987.0</td>\n",
       "    </tr>\n",
       "    <tr>\n",
       "      <th>4</th>\n",
       "      <td>Lufthansa</td>\n",
       "      <td>Airbus</td>\n",
       "      <td>A380</td>\n",
       "      <td>9</td>\n",
       "      <td>PN-5</td>\n",
       "      <td>987.0</td>\n",
       "    </tr>\n",
       "    <tr>\n",
       "      <th>5</th>\n",
       "      <td>Lufthansa</td>\n",
       "      <td>Boeing</td>\n",
       "      <td>737-100</td>\n",
       "      <td>8</td>\n",
       "      <td>PN-2</td>\n",
       "      <td>NaN</td>\n",
       "    </tr>\n",
       "    <tr>\n",
       "      <th>6</th>\n",
       "      <td>Lufthansa</td>\n",
       "      <td>Boeing</td>\n",
       "      <td>737-200</td>\n",
       "      <td>5</td>\n",
       "      <td>PN-3</td>\n",
       "      <td>NaN</td>\n",
       "    </tr>\n",
       "  </tbody>\n",
       "</table>\n",
       "</div>"
      ],
      "text/plain": [
       "      airline ac_type  variant  number    PN  cost/part\n",
       "0  Air France  Airbus     A380       5  PN-5      987.0\n",
       "1  Air France  Boeing      747       4  PN-1        NaN\n",
       "2         KLM  Airbus     A320       9  PN-4        NaN\n",
       "3         KLM  Airbus     A380       4  PN-5      987.0\n",
       "4   Lufthansa  Airbus     A380       9  PN-5      987.0\n",
       "5   Lufthansa  Boeing  737-100       8  PN-2        NaN\n",
       "6   Lufthansa  Boeing  737-200       5  PN-3        NaN"
      ]
     },
     "execution_count": 24,
     "metadata": {},
     "output_type": "execute_result"
    }
   ],
   "source": [
    "pn = \"PN-5\"\n",
    "fl_gr.loc[fl_gr.PN == pn, \"cost/part\"] = pn_lu[pn]\n",
    "fl_gr"
   ]
  },
  {
   "cell_type": "markdown",
   "id": "eb4181ed",
   "metadata": {},
   "source": [
    "- alternative: for-loop"
   ]
  },
  {
   "cell_type": "code",
   "execution_count": 25,
   "id": "bde055cc",
   "metadata": {},
   "outputs": [],
   "source": [
    "for pn in [\"PN-1\", \"PN-2\", \"PN-3\", \"PN-4\", \"PN-5\"]:\n",
    "    fl_gr.loc[fl_gr.PN == pn, \"cost/part\"] = pn_lu[pn]"
   ]
  },
  {
   "cell_type": "code",
   "execution_count": 26,
   "id": "c34236a4",
   "metadata": {},
   "outputs": [],
   "source": [
    "for pn in [\"PN-1\", \"PN-2\", \"PN-3\", \"PN-4\", \"PN-5\"]:\n",
    "    fc.loc[fc.PN == pn, \"cost/part\"] = pn_lu[pn]"
   ]
  },
  {
   "cell_type": "code",
   "execution_count": 27,
   "id": "c8ecb862",
   "metadata": {
    "scrolled": true
   },
   "outputs": [
    {
     "data": {
      "text/html": [
       "<div>\n",
       "<style scoped>\n",
       "    .dataframe tbody tr th:only-of-type {\n",
       "        vertical-align: middle;\n",
       "    }\n",
       "\n",
       "    .dataframe tbody tr th {\n",
       "        vertical-align: top;\n",
       "    }\n",
       "\n",
       "    .dataframe thead th {\n",
       "        text-align: right;\n",
       "    }\n",
       "</style>\n",
       "<table border=\"1\" class=\"dataframe\">\n",
       "  <thead>\n",
       "    <tr style=\"text-align: right;\">\n",
       "      <th></th>\n",
       "      <th>airline</th>\n",
       "      <th>ac_type</th>\n",
       "      <th>variant</th>\n",
       "      <th>number</th>\n",
       "      <th>PN</th>\n",
       "      <th>cost/part</th>\n",
       "    </tr>\n",
       "  </thead>\n",
       "  <tbody>\n",
       "    <tr>\n",
       "      <th>0</th>\n",
       "      <td>Air France</td>\n",
       "      <td>Airbus</td>\n",
       "      <td>A380</td>\n",
       "      <td>5</td>\n",
       "      <td>PN-5</td>\n",
       "      <td>987.0</td>\n",
       "    </tr>\n",
       "    <tr>\n",
       "      <th>1</th>\n",
       "      <td>Air France</td>\n",
       "      <td>Boeing</td>\n",
       "      <td>747</td>\n",
       "      <td>4</td>\n",
       "      <td>PN-1</td>\n",
       "      <td>2174.0</td>\n",
       "    </tr>\n",
       "    <tr>\n",
       "      <th>2</th>\n",
       "      <td>KLM</td>\n",
       "      <td>Airbus</td>\n",
       "      <td>A320</td>\n",
       "      <td>9</td>\n",
       "      <td>PN-4</td>\n",
       "      <td>4926.0</td>\n",
       "    </tr>\n",
       "    <tr>\n",
       "      <th>3</th>\n",
       "      <td>KLM</td>\n",
       "      <td>Airbus</td>\n",
       "      <td>A380</td>\n",
       "      <td>4</td>\n",
       "      <td>PN-5</td>\n",
       "      <td>987.0</td>\n",
       "    </tr>\n",
       "    <tr>\n",
       "      <th>4</th>\n",
       "      <td>Lufthansa</td>\n",
       "      <td>Airbus</td>\n",
       "      <td>A380</td>\n",
       "      <td>9</td>\n",
       "      <td>PN-5</td>\n",
       "      <td>987.0</td>\n",
       "    </tr>\n",
       "    <tr>\n",
       "      <th>5</th>\n",
       "      <td>Lufthansa</td>\n",
       "      <td>Boeing</td>\n",
       "      <td>737-100</td>\n",
       "      <td>8</td>\n",
       "      <td>PN-2</td>\n",
       "      <td>3925.0</td>\n",
       "    </tr>\n",
       "    <tr>\n",
       "      <th>6</th>\n",
       "      <td>Lufthansa</td>\n",
       "      <td>Boeing</td>\n",
       "      <td>737-200</td>\n",
       "      <td>5</td>\n",
       "      <td>PN-3</td>\n",
       "      <td>1529.0</td>\n",
       "    </tr>\n",
       "  </tbody>\n",
       "</table>\n",
       "</div>"
      ],
      "text/plain": [
       "      airline ac_type  variant  number    PN  cost/part\n",
       "0  Air France  Airbus     A380       5  PN-5      987.0\n",
       "1  Air France  Boeing      747       4  PN-1     2174.0\n",
       "2         KLM  Airbus     A320       9  PN-4     4926.0\n",
       "3         KLM  Airbus     A380       4  PN-5      987.0\n",
       "4   Lufthansa  Airbus     A380       9  PN-5      987.0\n",
       "5   Lufthansa  Boeing  737-100       8  PN-2     3925.0\n",
       "6   Lufthansa  Boeing  737-200       5  PN-3     1529.0"
      ]
     },
     "execution_count": 27,
     "metadata": {},
     "output_type": "execute_result"
    }
   ],
   "source": [
    "fl_gr"
   ]
  },
  {
   "cell_type": "code",
   "execution_count": 28,
   "id": "e4dddde8",
   "metadata": {},
   "outputs": [],
   "source": [
    "fl_gr['total cost'] = fl_gr['cost/part']*fl_gr['number']\n",
    "fc['total cost'] = fc['cost/part']*fc['number']"
   ]
  },
  {
   "cell_type": "code",
   "execution_count": null,
   "id": "42f67913",
   "metadata": {},
   "outputs": [],
   "source": []
  },
  {
   "cell_type": "code",
   "execution_count": 29,
   "id": "819109ae",
   "metadata": {},
   "outputs": [
    {
     "data": {
      "text/html": [
       "<div>\n",
       "<style scoped>\n",
       "    .dataframe tbody tr th:only-of-type {\n",
       "        vertical-align: middle;\n",
       "    }\n",
       "\n",
       "    .dataframe tbody tr th {\n",
       "        vertical-align: top;\n",
       "    }\n",
       "\n",
       "    .dataframe thead th {\n",
       "        text-align: right;\n",
       "    }\n",
       "</style>\n",
       "<table border=\"1\" class=\"dataframe\">\n",
       "  <thead>\n",
       "    <tr style=\"text-align: right;\">\n",
       "      <th></th>\n",
       "      <th>airline</th>\n",
       "      <th>ac_type</th>\n",
       "      <th>variant</th>\n",
       "      <th>number</th>\n",
       "      <th>PN</th>\n",
       "      <th>cost/part</th>\n",
       "      <th>total cost</th>\n",
       "    </tr>\n",
       "  </thead>\n",
       "  <tbody>\n",
       "    <tr>\n",
       "      <th>0</th>\n",
       "      <td>Lufthansa</td>\n",
       "      <td>Boeing</td>\n",
       "      <td>737-100</td>\n",
       "      <td>4</td>\n",
       "      <td>PN-2</td>\n",
       "      <td>3925.0</td>\n",
       "      <td>15700.0</td>\n",
       "    </tr>\n",
       "    <tr>\n",
       "      <th>1</th>\n",
       "      <td>Lufthansa</td>\n",
       "      <td>Boeing</td>\n",
       "      <td>737-100</td>\n",
       "      <td>3</td>\n",
       "      <td>PN-2</td>\n",
       "      <td>3925.0</td>\n",
       "      <td>11775.0</td>\n",
       "    </tr>\n",
       "    <tr>\n",
       "      <th>2</th>\n",
       "      <td>Lufthansa</td>\n",
       "      <td>Boeing</td>\n",
       "      <td>737-100</td>\n",
       "      <td>1</td>\n",
       "      <td>PN-2</td>\n",
       "      <td>3925.0</td>\n",
       "      <td>3925.0</td>\n",
       "    </tr>\n",
       "    <tr>\n",
       "      <th>3</th>\n",
       "      <td>Lufthansa</td>\n",
       "      <td>Boeing</td>\n",
       "      <td>737-200</td>\n",
       "      <td>5</td>\n",
       "      <td>PN-3</td>\n",
       "      <td>1529.0</td>\n",
       "      <td>7645.0</td>\n",
       "    </tr>\n",
       "    <tr>\n",
       "      <th>4</th>\n",
       "      <td>Lufthansa</td>\n",
       "      <td>Airbus</td>\n",
       "      <td>A380</td>\n",
       "      <td>3</td>\n",
       "      <td>PN-5</td>\n",
       "      <td>987.0</td>\n",
       "      <td>2961.0</td>\n",
       "    </tr>\n",
       "    <tr>\n",
       "      <th>5</th>\n",
       "      <td>Lufthansa</td>\n",
       "      <td>Airbus</td>\n",
       "      <td>A380</td>\n",
       "      <td>6</td>\n",
       "      <td>PN-5</td>\n",
       "      <td>987.0</td>\n",
       "      <td>5922.0</td>\n",
       "    </tr>\n",
       "    <tr>\n",
       "      <th>6</th>\n",
       "      <td>KLM</td>\n",
       "      <td>Airbus</td>\n",
       "      <td>A380</td>\n",
       "      <td>1</td>\n",
       "      <td>PN-5</td>\n",
       "      <td>987.0</td>\n",
       "      <td>987.0</td>\n",
       "    </tr>\n",
       "    <tr>\n",
       "      <th>7</th>\n",
       "      <td>KLM</td>\n",
       "      <td>Airbus</td>\n",
       "      <td>A380</td>\n",
       "      <td>3</td>\n",
       "      <td>PN-5</td>\n",
       "      <td>987.0</td>\n",
       "      <td>2961.0</td>\n",
       "    </tr>\n",
       "    <tr>\n",
       "      <th>8</th>\n",
       "      <td>KLM</td>\n",
       "      <td>Airbus</td>\n",
       "      <td>A320</td>\n",
       "      <td>3</td>\n",
       "      <td>PN-4</td>\n",
       "      <td>4926.0</td>\n",
       "      <td>14778.0</td>\n",
       "    </tr>\n",
       "    <tr>\n",
       "      <th>9</th>\n",
       "      <td>KLM</td>\n",
       "      <td>Airbus</td>\n",
       "      <td>A320</td>\n",
       "      <td>4</td>\n",
       "      <td>PN-4</td>\n",
       "      <td>4926.0</td>\n",
       "      <td>19704.0</td>\n",
       "    </tr>\n",
       "    <tr>\n",
       "      <th>10</th>\n",
       "      <td>KLM</td>\n",
       "      <td>Airbus</td>\n",
       "      <td>A320</td>\n",
       "      <td>2</td>\n",
       "      <td>PN-4</td>\n",
       "      <td>4926.0</td>\n",
       "      <td>9852.0</td>\n",
       "    </tr>\n",
       "    <tr>\n",
       "      <th>11</th>\n",
       "      <td>Air France</td>\n",
       "      <td>Airbus</td>\n",
       "      <td>A380</td>\n",
       "      <td>2</td>\n",
       "      <td>PN-5</td>\n",
       "      <td>987.0</td>\n",
       "      <td>1974.0</td>\n",
       "    </tr>\n",
       "    <tr>\n",
       "      <th>12</th>\n",
       "      <td>Air France</td>\n",
       "      <td>Airbus</td>\n",
       "      <td>A380</td>\n",
       "      <td>3</td>\n",
       "      <td>PN-5</td>\n",
       "      <td>987.0</td>\n",
       "      <td>2961.0</td>\n",
       "    </tr>\n",
       "    <tr>\n",
       "      <th>13</th>\n",
       "      <td>Air France</td>\n",
       "      <td>Boeing</td>\n",
       "      <td>747</td>\n",
       "      <td>4</td>\n",
       "      <td>PN-1</td>\n",
       "      <td>2174.0</td>\n",
       "      <td>8696.0</td>\n",
       "    </tr>\n",
       "  </tbody>\n",
       "</table>\n",
       "</div>"
      ],
      "text/plain": [
       "       airline ac_type  variant  number    PN  cost/part  total cost\n",
       "0    Lufthansa  Boeing  737-100       4  PN-2     3925.0     15700.0\n",
       "1    Lufthansa  Boeing  737-100       3  PN-2     3925.0     11775.0\n",
       "2    Lufthansa  Boeing  737-100       1  PN-2     3925.0      3925.0\n",
       "3    Lufthansa  Boeing  737-200       5  PN-3     1529.0      7645.0\n",
       "4    Lufthansa  Airbus     A380       3  PN-5      987.0      2961.0\n",
       "5    Lufthansa  Airbus     A380       6  PN-5      987.0      5922.0\n",
       "6          KLM  Airbus     A380       1  PN-5      987.0       987.0\n",
       "7          KLM  Airbus     A380       3  PN-5      987.0      2961.0\n",
       "8          KLM  Airbus     A320       3  PN-4     4926.0     14778.0\n",
       "9          KLM  Airbus     A320       4  PN-4     4926.0     19704.0\n",
       "10         KLM  Airbus     A320       2  PN-4     4926.0      9852.0\n",
       "11  Air France  Airbus     A380       2  PN-5      987.0      1974.0\n",
       "12  Air France  Airbus     A380       3  PN-5      987.0      2961.0\n",
       "13  Air France  Boeing      747       4  PN-1     2174.0      8696.0"
      ]
     },
     "execution_count": 29,
     "metadata": {},
     "output_type": "execute_result"
    }
   ],
   "source": [
    "fc"
   ]
  },
  {
   "cell_type": "code",
   "execution_count": 30,
   "id": "0edd3b51",
   "metadata": {},
   "outputs": [
    {
     "data": {
      "text/html": [
       "<th style=\"text-align:center\"><td style=\"vertical-align:top\"><h2 style=\"text-align: center;\">fleet_data</h2><table style=\"display:inline\" border=\"1\" class=\"dataframe\">\n",
       "  <thead>\n",
       "    <tr style=\"text-align: right;\">\n",
       "      <th></th>\n",
       "      <th>airline</th>\n",
       "      <th>ac_type</th>\n",
       "      <th>variant</th>\n",
       "      <th>number</th>\n",
       "    </tr>\n",
       "  </thead>\n",
       "  <tbody>\n",
       "    <tr>\n",
       "      <th>0</th>\n",
       "      <td>Lufthansa</td>\n",
       "      <td>Boeing</td>\n",
       "      <td>737-100</td>\n",
       "      <td>4</td>\n",
       "    </tr>\n",
       "    <tr>\n",
       "      <th>1</th>\n",
       "      <td>Lufthansa</td>\n",
       "      <td>Boeing</td>\n",
       "      <td>737-100</td>\n",
       "      <td>3</td>\n",
       "    </tr>\n",
       "    <tr>\n",
       "      <th>2</th>\n",
       "      <td>Lufthansa</td>\n",
       "      <td>Boeing</td>\n",
       "      <td>737-100</td>\n",
       "      <td>1</td>\n",
       "    </tr>\n",
       "    <tr>\n",
       "      <th>3</th>\n",
       "      <td>Lufthansa</td>\n",
       "      <td>Boeing</td>\n",
       "      <td>737-200</td>\n",
       "      <td>5</td>\n",
       "    </tr>\n",
       "    <tr>\n",
       "      <th>4</th>\n",
       "      <td>Lufthansa</td>\n",
       "      <td>Airbus</td>\n",
       "      <td>A380</td>\n",
       "      <td>3</td>\n",
       "    </tr>\n",
       "    <tr>\n",
       "      <th>5</th>\n",
       "      <td>Lufthansa</td>\n",
       "      <td>Airbus</td>\n",
       "      <td>A380</td>\n",
       "      <td>6</td>\n",
       "    </tr>\n",
       "    <tr>\n",
       "      <th>6</th>\n",
       "      <td>KLM</td>\n",
       "      <td>Airbus</td>\n",
       "      <td>A380</td>\n",
       "      <td>1</td>\n",
       "    </tr>\n",
       "    <tr>\n",
       "      <th>7</th>\n",
       "      <td>KLM</td>\n",
       "      <td>Airbus</td>\n",
       "      <td>A380</td>\n",
       "      <td>3</td>\n",
       "    </tr>\n",
       "    <tr>\n",
       "      <th>8</th>\n",
       "      <td>KLM</td>\n",
       "      <td>Airbus</td>\n",
       "      <td>A320</td>\n",
       "      <td>3</td>\n",
       "    </tr>\n",
       "    <tr>\n",
       "      <th>9</th>\n",
       "      <td>KLM</td>\n",
       "      <td>Airbus</td>\n",
       "      <td>A320</td>\n",
       "      <td>4</td>\n",
       "    </tr>\n",
       "    <tr>\n",
       "      <th>10</th>\n",
       "      <td>KLM</td>\n",
       "      <td>Airbus</td>\n",
       "      <td>A320</td>\n",
       "      <td>2</td>\n",
       "    </tr>\n",
       "    <tr>\n",
       "      <th>11</th>\n",
       "      <td>Air France</td>\n",
       "      <td>Airbus</td>\n",
       "      <td>A380</td>\n",
       "      <td>2</td>\n",
       "    </tr>\n",
       "    <tr>\n",
       "      <th>12</th>\n",
       "      <td>Air France</td>\n",
       "      <td>Airbus</td>\n",
       "      <td>A380</td>\n",
       "      <td>3</td>\n",
       "    </tr>\n",
       "    <tr>\n",
       "      <th>13</th>\n",
       "      <td>Air France</td>\n",
       "      <td>Boeing</td>\n",
       "      <td>747</td>\n",
       "      <td>4</td>\n",
       "    </tr>\n",
       "  </tbody>\n",
       "</table style=\"display:inline\"></td></th><th style=\"text-align:center\"><td style=\"vertical-align:top\"><h2 style=\"text-align: center;\">look-up table 1</h2><table style=\"display:inline\" border=\"1\" class=\"dataframe\">\n",
       "  <thead>\n",
       "    <tr style=\"text-align: right;\">\n",
       "      <th></th>\n",
       "      <th>variant</th>\n",
       "      <th>pn</th>\n",
       "    </tr>\n",
       "  </thead>\n",
       "  <tbody>\n",
       "    <tr>\n",
       "      <th>0</th>\n",
       "      <td>747</td>\n",
       "      <td>PN-1</td>\n",
       "    </tr>\n",
       "    <tr>\n",
       "      <th>1</th>\n",
       "      <td>737-100</td>\n",
       "      <td>PN-2</td>\n",
       "    </tr>\n",
       "    <tr>\n",
       "      <th>2</th>\n",
       "      <td>737-200</td>\n",
       "      <td>PN-3</td>\n",
       "    </tr>\n",
       "    <tr>\n",
       "      <th>3</th>\n",
       "      <td>A320</td>\n",
       "      <td>PN-4</td>\n",
       "    </tr>\n",
       "    <tr>\n",
       "      <th>4</th>\n",
       "      <td>A380</td>\n",
       "      <td>PN-5</td>\n",
       "    </tr>\n",
       "  </tbody>\n",
       "</table style=\"display:inline\"></td></th><th style=\"text-align:center\"><td style=\"vertical-align:top\"><h2 style=\"text-align: center;\">look-up table 2</h2><table style=\"display:inline\" border=\"1\" class=\"dataframe\">\n",
       "  <thead>\n",
       "    <tr style=\"text-align: right;\">\n",
       "      <th></th>\n",
       "      <th>pn</th>\n",
       "      <th>cost</th>\n",
       "    </tr>\n",
       "  </thead>\n",
       "  <tbody>\n",
       "    <tr>\n",
       "      <th>0</th>\n",
       "      <td>PN-1</td>\n",
       "      <td>2174</td>\n",
       "    </tr>\n",
       "    <tr>\n",
       "      <th>1</th>\n",
       "      <td>PN-2</td>\n",
       "      <td>3925</td>\n",
       "    </tr>\n",
       "    <tr>\n",
       "      <th>2</th>\n",
       "      <td>PN-3</td>\n",
       "      <td>1529</td>\n",
       "    </tr>\n",
       "    <tr>\n",
       "      <th>3</th>\n",
       "      <td>PN-4</td>\n",
       "      <td>4926</td>\n",
       "    </tr>\n",
       "    <tr>\n",
       "      <th>4</th>\n",
       "      <td>PN-5</td>\n",
       "      <td>987</td>\n",
       "    </tr>\n",
       "  </tbody>\n",
       "</table style=\"display:inline\"></td></th>"
      ]
     },
     "metadata": {},
     "output_type": "display_data"
    }
   ],
   "source": [
    "display_side_by_side(fl,ac_pn, pn_cst, titles = ['fleet_data', 'look-up table 1', 'look-up table 2'])"
   ]
  },
  {
   "cell_type": "code",
   "execution_count": 31,
   "id": "9bc944d5",
   "metadata": {},
   "outputs": [
    {
     "data": {
      "text/html": [
       "<div>\n",
       "<style scoped>\n",
       "    .dataframe tbody tr th:only-of-type {\n",
       "        vertical-align: middle;\n",
       "    }\n",
       "\n",
       "    .dataframe tbody tr th {\n",
       "        vertical-align: top;\n",
       "    }\n",
       "\n",
       "    .dataframe thead th {\n",
       "        text-align: right;\n",
       "    }\n",
       "</style>\n",
       "<table border=\"1\" class=\"dataframe\">\n",
       "  <thead>\n",
       "    <tr style=\"text-align: right;\">\n",
       "      <th></th>\n",
       "      <th>airline</th>\n",
       "      <th>number</th>\n",
       "      <th>cost/part</th>\n",
       "      <th>total cost</th>\n",
       "    </tr>\n",
       "  </thead>\n",
       "  <tbody>\n",
       "    <tr>\n",
       "      <th>0</th>\n",
       "      <td>Air France</td>\n",
       "      <td>9</td>\n",
       "      <td>3161.0</td>\n",
       "      <td>13631.0</td>\n",
       "    </tr>\n",
       "    <tr>\n",
       "      <th>1</th>\n",
       "      <td>KLM</td>\n",
       "      <td>13</td>\n",
       "      <td>5913.0</td>\n",
       "      <td>48282.0</td>\n",
       "    </tr>\n",
       "    <tr>\n",
       "      <th>2</th>\n",
       "      <td>Lufthansa</td>\n",
       "      <td>22</td>\n",
       "      <td>6441.0</td>\n",
       "      <td>47928.0</td>\n",
       "    </tr>\n",
       "  </tbody>\n",
       "</table>\n",
       "</div>"
      ],
      "text/plain": [
       "      airline  number  cost/part  total cost\n",
       "0  Air France       9     3161.0     13631.0\n",
       "1         KLM      13     5913.0     48282.0\n",
       "2   Lufthansa      22     6441.0     47928.0"
      ]
     },
     "execution_count": 31,
     "metadata": {},
     "output_type": "execute_result"
    }
   ],
   "source": [
    "fl_al = fl_gr.groupby('airline').sum(numeric_only = True).reset_index()\n",
    "fl_al"
   ]
  },
  {
   "cell_type": "code",
   "execution_count": 32,
   "id": "fa3ad07e",
   "metadata": {},
   "outputs": [
    {
     "data": {
      "text/plain": [
       "0    3161.0\n",
       "1    5913.0\n",
       "2    6441.0\n",
       "Name: cost/part, dtype: float64"
      ]
     },
     "execution_count": 32,
     "metadata": {},
     "output_type": "execute_result"
    }
   ],
   "source": [
    "fl_al.pop('cost/part')"
   ]
  },
  {
   "cell_type": "code",
   "execution_count": 33,
   "id": "5bfa5f43",
   "metadata": {},
   "outputs": [
    {
     "data": {
      "text/html": [
       "<div>\n",
       "<style scoped>\n",
       "    .dataframe tbody tr th:only-of-type {\n",
       "        vertical-align: middle;\n",
       "    }\n",
       "\n",
       "    .dataframe tbody tr th {\n",
       "        vertical-align: top;\n",
       "    }\n",
       "\n",
       "    .dataframe thead th {\n",
       "        text-align: right;\n",
       "    }\n",
       "</style>\n",
       "<table border=\"1\" class=\"dataframe\">\n",
       "  <thead>\n",
       "    <tr style=\"text-align: right;\">\n",
       "      <th></th>\n",
       "      <th>airline</th>\n",
       "      <th>number</th>\n",
       "      <th>total cost</th>\n",
       "    </tr>\n",
       "  </thead>\n",
       "  <tbody>\n",
       "    <tr>\n",
       "      <th>0</th>\n",
       "      <td>Air France</td>\n",
       "      <td>9</td>\n",
       "      <td>13631.0</td>\n",
       "    </tr>\n",
       "    <tr>\n",
       "      <th>1</th>\n",
       "      <td>KLM</td>\n",
       "      <td>13</td>\n",
       "      <td>48282.0</td>\n",
       "    </tr>\n",
       "    <tr>\n",
       "      <th>2</th>\n",
       "      <td>Lufthansa</td>\n",
       "      <td>22</td>\n",
       "      <td>47928.0</td>\n",
       "    </tr>\n",
       "  </tbody>\n",
       "</table>\n",
       "</div>"
      ],
      "text/plain": [
       "      airline  number  total cost\n",
       "0  Air France       9     13631.0\n",
       "1         KLM      13     48282.0\n",
       "2   Lufthansa      22     47928.0"
      ]
     },
     "execution_count": 33,
     "metadata": {},
     "output_type": "execute_result"
    }
   ],
   "source": [
    "fl_al"
   ]
  },
  {
   "cell_type": "markdown",
   "id": "74970006",
   "metadata": {},
   "source": [
    "## Seaborn plotting"
   ]
  },
  {
   "cell_type": "markdown",
   "id": "7d434bef",
   "metadata": {},
   "source": [
    "- distplot (distributions)\n",
    "- relplot (relational)\n",
    "- catplot (categorical)"
   ]
  },
  {
   "cell_type": "markdown",
   "id": "8fdfe2d7",
   "metadata": {},
   "source": [
    "## distplot (distributions)"
   ]
  },
  {
   "cell_type": "code",
   "execution_count": 34,
   "id": "954c300e",
   "metadata": {},
   "outputs": [
    {
     "data": {
      "text/plain": [
       "<AxesSubplot:xlabel='airline', ylabel='Count'>"
      ]
     },
     "execution_count": 34,
     "metadata": {},
     "output_type": "execute_result"
    },
    {
     "data": {
      "image/png": "[encoded data removed]",
      "text/plain": [
       "<Figure size 432x288 with 1 Axes>"
      ]
     },
     "metadata": {
      "needs_background": "light"
     },
     "output_type": "display_data"
    }
   ],
   "source": [
    "sns.histplot(data=fc, x=\"airline\", hue=\"airline\")"
   ]
  },
  {
   "cell_type": "code",
   "execution_count": 35,
   "id": "31e05412",
   "metadata": {
    "scrolled": true
   },
   "outputs": [
    {
     "data": {
      "text/plain": [
       "<AxesSubplot:xlabel='ac_type', ylabel='Count'>"
      ]
     },
     "execution_count": 35,
     "metadata": {},
     "output_type": "execute_result"
    },
    {
     "data": {
      "image/png": "[encoded data removed]",
      "text/plain": [
       "<Figure size 432x288 with 1 Axes>"
      ]
     },
     "metadata": {
      "needs_background": "light"
     },
     "output_type": "display_data"
    }
   ],
   "source": [
    "sns.histplot(data=fc, x=\"ac_type\", hue=\"ac_type\")"
   ]
  },
  {
   "cell_type": "code",
   "execution_count": 36,
   "id": "655d1e09",
   "metadata": {},
   "outputs": [
    {
     "data": {
      "text/plain": [
       "<AxesSubplot:xlabel='variant', ylabel='Count'>"
      ]
     },
     "execution_count": 36,
     "metadata": {},
     "output_type": "execute_result"
    },
    {
     "data": {
      "image/png": "[encoded data removed]",
      "text/plain": [
       "<Figure size 432x288 with 1 Axes>"
      ]
     },
     "metadata": {
      "needs_background": "light"
     },
     "output_type": "display_data"
    }
   ],
   "source": [
    "sns.histplot(data=fc, x=\"variant\", hue=\"variant\")"
   ]
  },
  {
   "cell_type": "code",
   "execution_count": 37,
   "id": "60e27e47",
   "metadata": {},
   "outputs": [
    {
     "data": {
      "text/html": [
       "<div>\n",
       "<style scoped>\n",
       "    .dataframe tbody tr th:only-of-type {\n",
       "        vertical-align: middle;\n",
       "    }\n",
       "\n",
       "    .dataframe tbody tr th {\n",
       "        vertical-align: top;\n",
       "    }\n",
       "\n",
       "    .dataframe thead th {\n",
       "        text-align: right;\n",
       "    }\n",
       "</style>\n",
       "<table border=\"1\" class=\"dataframe\">\n",
       "  <thead>\n",
       "    <tr style=\"text-align: right;\">\n",
       "      <th></th>\n",
       "      <th>airline</th>\n",
       "      <th>ac_type</th>\n",
       "      <th>variant</th>\n",
       "      <th>number</th>\n",
       "      <th>PN</th>\n",
       "      <th>cost/part</th>\n",
       "      <th>total cost</th>\n",
       "    </tr>\n",
       "  </thead>\n",
       "  <tbody>\n",
       "    <tr>\n",
       "      <th>0</th>\n",
       "      <td>Lufthansa</td>\n",
       "      <td>Boeing</td>\n",
       "      <td>737-100</td>\n",
       "      <td>4</td>\n",
       "      <td>PN-2</td>\n",
       "      <td>3925.0</td>\n",
       "      <td>15700.0</td>\n",
       "    </tr>\n",
       "    <tr>\n",
       "      <th>1</th>\n",
       "      <td>Lufthansa</td>\n",
       "      <td>Boeing</td>\n",
       "      <td>737-100</td>\n",
       "      <td>3</td>\n",
       "      <td>PN-2</td>\n",
       "      <td>3925.0</td>\n",
       "      <td>11775.0</td>\n",
       "    </tr>\n",
       "    <tr>\n",
       "      <th>2</th>\n",
       "      <td>Lufthansa</td>\n",
       "      <td>Boeing</td>\n",
       "      <td>737-100</td>\n",
       "      <td>1</td>\n",
       "      <td>PN-2</td>\n",
       "      <td>3925.0</td>\n",
       "      <td>3925.0</td>\n",
       "    </tr>\n",
       "    <tr>\n",
       "      <th>3</th>\n",
       "      <td>Lufthansa</td>\n",
       "      <td>Boeing</td>\n",
       "      <td>737-200</td>\n",
       "      <td>5</td>\n",
       "      <td>PN-3</td>\n",
       "      <td>1529.0</td>\n",
       "      <td>7645.0</td>\n",
       "    </tr>\n",
       "    <tr>\n",
       "      <th>4</th>\n",
       "      <td>Lufthansa</td>\n",
       "      <td>Airbus</td>\n",
       "      <td>A380</td>\n",
       "      <td>3</td>\n",
       "      <td>PN-5</td>\n",
       "      <td>987.0</td>\n",
       "      <td>2961.0</td>\n",
       "    </tr>\n",
       "    <tr>\n",
       "      <th>5</th>\n",
       "      <td>Lufthansa</td>\n",
       "      <td>Airbus</td>\n",
       "      <td>A380</td>\n",
       "      <td>6</td>\n",
       "      <td>PN-5</td>\n",
       "      <td>987.0</td>\n",
       "      <td>5922.0</td>\n",
       "    </tr>\n",
       "    <tr>\n",
       "      <th>6</th>\n",
       "      <td>KLM</td>\n",
       "      <td>Airbus</td>\n",
       "      <td>A380</td>\n",
       "      <td>1</td>\n",
       "      <td>PN-5</td>\n",
       "      <td>987.0</td>\n",
       "      <td>987.0</td>\n",
       "    </tr>\n",
       "    <tr>\n",
       "      <th>7</th>\n",
       "      <td>KLM</td>\n",
       "      <td>Airbus</td>\n",
       "      <td>A380</td>\n",
       "      <td>3</td>\n",
       "      <td>PN-5</td>\n",
       "      <td>987.0</td>\n",
       "      <td>2961.0</td>\n",
       "    </tr>\n",
       "    <tr>\n",
       "      <th>8</th>\n",
       "      <td>KLM</td>\n",
       "      <td>Airbus</td>\n",
       "      <td>A320</td>\n",
       "      <td>3</td>\n",
       "      <td>PN-4</td>\n",
       "      <td>4926.0</td>\n",
       "      <td>14778.0</td>\n",
       "    </tr>\n",
       "    <tr>\n",
       "      <th>9</th>\n",
       "      <td>KLM</td>\n",
       "      <td>Airbus</td>\n",
       "      <td>A320</td>\n",
       "      <td>4</td>\n",
       "      <td>PN-4</td>\n",
       "      <td>4926.0</td>\n",
       "      <td>19704.0</td>\n",
       "    </tr>\n",
       "    <tr>\n",
       "      <th>10</th>\n",
       "      <td>KLM</td>\n",
       "      <td>Airbus</td>\n",
       "      <td>A320</td>\n",
       "      <td>2</td>\n",
       "      <td>PN-4</td>\n",
       "      <td>4926.0</td>\n",
       "      <td>9852.0</td>\n",
       "    </tr>\n",
       "    <tr>\n",
       "      <th>11</th>\n",
       "      <td>Air France</td>\n",
       "      <td>Airbus</td>\n",
       "      <td>A380</td>\n",
       "      <td>2</td>\n",
       "      <td>PN-5</td>\n",
       "      <td>987.0</td>\n",
       "      <td>1974.0</td>\n",
       "    </tr>\n",
       "    <tr>\n",
       "      <th>12</th>\n",
       "      <td>Air France</td>\n",
       "      <td>Airbus</td>\n",
       "      <td>A380</td>\n",
       "      <td>3</td>\n",
       "      <td>PN-5</td>\n",
       "      <td>987.0</td>\n",
       "      <td>2961.0</td>\n",
       "    </tr>\n",
       "    <tr>\n",
       "      <th>13</th>\n",
       "      <td>Air France</td>\n",
       "      <td>Boeing</td>\n",
       "      <td>747</td>\n",
       "      <td>4</td>\n",
       "      <td>PN-1</td>\n",
       "      <td>2174.0</td>\n",
       "      <td>8696.0</td>\n",
       "    </tr>\n",
       "  </tbody>\n",
       "</table>\n",
       "</div>"
      ],
      "text/plain": [
       "       airline ac_type  variant  number    PN  cost/part  total cost\n",
       "0    Lufthansa  Boeing  737-100       4  PN-2     3925.0     15700.0\n",
       "1    Lufthansa  Boeing  737-100       3  PN-2     3925.0     11775.0\n",
       "2    Lufthansa  Boeing  737-100       1  PN-2     3925.0      3925.0\n",
       "3    Lufthansa  Boeing  737-200       5  PN-3     1529.0      7645.0\n",
       "4    Lufthansa  Airbus     A380       3  PN-5      987.0      2961.0\n",
       "5    Lufthansa  Airbus     A380       6  PN-5      987.0      5922.0\n",
       "6          KLM  Airbus     A380       1  PN-5      987.0       987.0\n",
       "7          KLM  Airbus     A380       3  PN-5      987.0      2961.0\n",
       "8          KLM  Airbus     A320       3  PN-4     4926.0     14778.0\n",
       "9          KLM  Airbus     A320       4  PN-4     4926.0     19704.0\n",
       "10         KLM  Airbus     A320       2  PN-4     4926.0      9852.0\n",
       "11  Air France  Airbus     A380       2  PN-5      987.0      1974.0\n",
       "12  Air France  Airbus     A380       3  PN-5      987.0      2961.0\n",
       "13  Air France  Boeing      747       4  PN-1     2174.0      8696.0"
      ]
     },
     "execution_count": 37,
     "metadata": {},
     "output_type": "execute_result"
    }
   ],
   "source": [
    "fc"
   ]
  },
  {
   "cell_type": "code",
   "execution_count": 38,
   "id": "ec73621c",
   "metadata": {
    "scrolled": false
   },
   "outputs": [
    {
     "data": {
      "text/plain": [
       "<seaborn.axisgrid.FacetGrid at 0x7f54ca9ca040>"
      ]
     },
     "execution_count": 38,
     "metadata": {},
     "output_type": "execute_result"
    },
    {
     "data": {
      "image/png": "[encoded data removed]",
      "text/plain": [
       "<Figure size 1166.25x360 with 3 Axes>"
      ]
     },
     "metadata": {
      "needs_background": "light"
     },
     "output_type": "display_data"
    }
   ],
   "source": [
    "sns.displot(data=fc, x=\"number\", hue=\"airline\", col=\"airline\",  multiple=\"stack\", kind = \"kde\") "
   ]
  },
  {
   "cell_type": "code",
   "execution_count": 39,
   "id": "8e776c10",
   "metadata": {
    "scrolled": true
   },
   "outputs": [
    {
     "data": {
      "text/plain": [
       "<seaborn.axisgrid.FacetGrid at 0x7f54ca976df0>"
      ]
     },
     "execution_count": 39,
     "metadata": {},
     "output_type": "execute_result"
    },
    {
     "data": {
      "image/png": "[encoded data removed]",
      "text/plain": [
       "<Figure size 446.25x360 with 1 Axes>"
      ]
     },
     "metadata": {
      "needs_background": "light"
     },
     "output_type": "display_data"
    }
   ],
   "source": [
    "sns.displot(data=fc, x=\"number\", hue=\"airline\", multiple=\"stack\", kind = \"kde\")"
   ]
  },
  {
   "cell_type": "markdown",
   "id": "ab73aa51",
   "metadata": {},
   "source": [
    "## relplot (relational)"
   ]
  },
  {
   "cell_type": "code",
   "execution_count": 40,
   "id": "0b3e86bc",
   "metadata": {
    "scrolled": false
   },
   "outputs": [
    {
     "data": {
      "text/plain": [
       "<seaborn.axisgrid.FacetGrid at 0x7f54c865df40>"
      ]
     },
     "execution_count": 40,
     "metadata": {},
     "output_type": "execute_result"
    },
    {
     "data": {
      "image/png": "[encoded data removed]",
      "text/plain": [
       "<Figure size 360x360 with 1 Axes>"
      ]
     },
     "metadata": {
      "needs_background": "light"
     },
     "output_type": "display_data"
    }
   ],
   "source": [
    "sns.relplot(data = fc, x = \"number\", y = \"total cost\")"
   ]
  },
  {
   "cell_type": "code",
   "execution_count": 41,
   "id": "07728ccd",
   "metadata": {},
   "outputs": [
    {
     "data": {
      "text/plain": [
       "<seaborn.axisgrid.FacetGrid at 0x7f54c85b21c0>"
      ]
     },
     "execution_count": 41,
     "metadata": {},
     "output_type": "execute_result"
    },
    {
     "data": {
      "image/png": "[encoded data removed]",
      "text/plain": [
       "<Figure size 437.875x360 with 1 Axes>"
      ]
     },
     "metadata": {
      "needs_background": "light"
     },
     "output_type": "display_data"
    }
   ],
   "source": [
    "sns.relplot(data = fc, x = \"number\", y = \"total cost\", hue = 'variant') #, size=\"ac_type\""
   ]
  },
  {
   "cell_type": "code",
   "execution_count": 42,
   "id": "8a428cce",
   "metadata": {
    "scrolled": false
   },
   "outputs": [
    {
     "data": {
      "text/plain": [
       "<seaborn.axisgrid.FacetGrid at 0x7f54ccc069a0>"
      ]
     },
     "execution_count": 42,
     "metadata": {},
     "output_type": "execute_result"
    },
    {
     "data": {
      "image/png": "[encoded data removed]",
      "text/plain": [
       "<Figure size 360x360 with 1 Axes>"
      ]
     },
     "metadata": {
      "needs_background": "light"
     },
     "output_type": "display_data"
    }
   ],
   "source": [
    "sns.lmplot(data=fc, x=\"number\", y=\"total cost\")"
   ]
  },
  {
   "cell_type": "markdown",
   "id": "5fa17a28",
   "metadata": {},
   "source": [
    "## relational + distributions"
   ]
  },
  {
   "cell_type": "code",
   "execution_count": 43,
   "id": "b8f75833",
   "metadata": {},
   "outputs": [
    {
     "data": {
      "text/plain": [
       "<seaborn.axisgrid.JointGrid at 0x7f54c85e12e0>"
      ]
     },
     "execution_count": 43,
     "metadata": {},
     "output_type": "execute_result"
    },
    {
     "data": {
      "image/png": "[encoded data removed]",
      "text/plain": [
       "<Figure size 432x432 with 3 Axes>"
      ]
     },
     "metadata": {
      "needs_background": "light"
     },
     "output_type": "display_data"
    }
   ],
   "source": [
    "sns.jointplot(data=fc, x=\"number\", y=\"total cost\") #, kind = \"reg\""
   ]
  },
  {
   "cell_type": "code",
   "execution_count": 44,
   "id": "c3c3219e",
   "metadata": {},
   "outputs": [
    {
     "data": {
      "text/plain": [
       "<seaborn.axisgrid.JointGrid at 0x7f54c8261b80>"
      ]
     },
     "execution_count": 44,
     "metadata": {},
     "output_type": "execute_result"
    },
    {
     "data": {
      "image/png": "[encoded data removed]",
      "text/plain": [
       "<Figure size 432x432 with 3 Axes>"
      ]
     },
     "metadata": {
      "needs_background": "light"
     },
     "output_type": "display_data"
    }
   ],
   "source": [
    "sns.jointplot(data=fl_gr, x=\"number\", y=\"total cost\", hue=\"airline\") #play with different hue's"
   ]
  },
  {
   "cell_type": "code",
   "execution_count": 45,
   "id": "f9a79449",
   "metadata": {},
   "outputs": [
    {
     "data": {
      "text/plain": [
       "<seaborn.axisgrid.PairGrid at 0x7f54c80c6880>"
      ]
     },
     "execution_count": 45,
     "metadata": {},
     "output_type": "execute_result"
    },
    {
     "data": {
      "image/png": "[encoded data removed]",
      "text/plain": [
       "<Figure size 540x540 with 12 Axes>"
      ]
     },
     "metadata": {
      "needs_background": "light"
     },
     "output_type": "display_data"
    }
   ],
   "source": [
    "sns.pairplot(data=fc) #,  kind = \"reg\", hue=\"airline\""
   ]
  },
  {
   "cell_type": "code",
   "execution_count": null,
   "id": "fbad13e9",
   "metadata": {},
   "outputs": [],
   "source": []
  },
  {
   "cell_type": "code",
   "execution_count": null,
   "id": "913e44c6",
   "metadata": {},
   "outputs": [],
   "source": []
  },
  {
   "cell_type": "code",
   "execution_count": null,
   "id": "9c6232bf",
   "metadata": {},
   "outputs": [],
   "source": []
  }
 ],
 "metadata": {
  "kernelspec": {
   "display_name": "Python 3",
   "language": "python",
   "name": "python3"
  },
  "language_info": {
   "codemirror_mode": {
    "name": "ipython",
    "version": 3
   },
   "file_extension": ".py",
   "mimetype": "text/x-python",
   "name": "python",
   "nbconvert_exporter": "python",
   "pygments_lexer": "ipython3",
   "version": "3.8.13"
  }
 },
 "nbformat": 4,
 "nbformat_minor": 5
}
